{
 "cells": [
  {
   "cell_type": "markdown",
   "metadata": {},
   "source": [
    "# Assignment 1"
   ]
  },
  {
   "cell_type": "markdown",
   "metadata": {},
   "source": [
    "# Esercise 1"
   ]
  },
  {
   "cell_type": "code",
   "execution_count": 1,
   "metadata": {
    "collapsed": true
   },
   "outputs": [],
   "source": [
    "import pandas as pd\n",
    "import numpy as np\n",
    "import scipy as sc\n",
    "%matplotlib inline\n",
    "import matplotlib.pyplot as plt\n",
    "import seaborn as sn\n",
    "import os\n",
    "from collections import Counter\n",
    "from sklearn.model_selection import train_test_split\n",
    "from sklearn.model_selection import KFold\n",
    "from sklearn.preprocessing import MinMaxScaler\n",
    "from sklearn import svm\n",
    "from sklearn.neighbors import KNeighborsClassifier \n",
    "from sklearn.metrics import accuracy_score\n",
    "from sklearn.metrics import recall_score\n",
    "from sklearn.metrics import precision_score\n",
    "from sklearn.metrics import confusion_matrix\n",
    "from sklearn import metrics\n",
    "from sklearn import dummy\n",
    "from IPython.display import Image\n",
    "from sklearn.model_selection import GridSearchCV\n",
    "from sklearn.pipeline import make_pipeline\n",
    "from sklearn.model_selection import cross_val_score\n",
    "from sklearn.naive_bayes import MultinomialNB\n",
    "from sklearn.dummy import DummyClassifier\n",
    "from sklearn.metrics import f1_score\n",
    "from sklearn.pipeline import Pipeline\n",
    "from sklearn.naive_bayes import GaussianNB\n",
    "from matplotlib.colors import ListedColormap\n",
    "from sklearn.svm import SVC\n",
    "import warnings\n",
    "import matplotlib.pyplot as plt\n",
    "%matplotlib inline \n",
    "warnings.filterwarnings('ignore')\n",
    "sn.set_style('whitegrid')\n",
    "\n"
   ]
  },
  {
   "cell_type": "code",
   "execution_count": 2,
   "metadata": {
    "collapsed": true
   },
   "outputs": [],
   "source": [
    "db = pd.read_csv('glass.csv')"
   ]
  },
  {
   "cell_type": "markdown",
   "metadata": {},
   "source": [
    "1.How many classes has the data set?\n",
    "-there are 6 classes (1,2,3,5,6,7)"
   ]
  },
  {
   "cell_type": "code",
   "execution_count": 3,
   "metadata": {},
   "outputs": [
    {
     "data": {
      "text/plain": [
       "array([1, 2, 3, 5, 6, 7])"
      ]
     },
     "execution_count": 3,
     "metadata": {},
     "output_type": "execute_result"
    }
   ],
   "source": [
    "np.unique(db[\"Type\"])"
   ]
  },
  {
   "cell_type": "code",
   "execution_count": 4,
   "metadata": {},
   "outputs": [
    {
     "data": {
      "text/plain": [
       "Index(['RI', 'Na', 'Mg', 'Al', 'Si', 'K', 'Ca', 'Ba', 'Fe', 'Type'], dtype='object')"
      ]
     },
     "execution_count": 4,
     "metadata": {},
     "output_type": "execute_result"
    }
   ],
   "source": [
    "db.keys()"
   ]
  },
  {
   "cell_type": "markdown",
   "metadata": {},
   "source": [
    "2- Does the data set contain null-values? No, it doesn't"
   ]
  },
  {
   "cell_type": "code",
   "execution_count": 5,
   "metadata": {},
   "outputs": [
    {
     "name": "stdout",
     "output_type": "stream",
     "text": [
      "<class 'pandas.core.frame.DataFrame'>\n",
      "RangeIndex: 214 entries, 0 to 213\n",
      "Data columns (total 10 columns):\n",
      "RI      214 non-null float64\n",
      "Na      214 non-null float64\n",
      "Mg      214 non-null float64\n",
      "Al      214 non-null float64\n",
      "Si      214 non-null float64\n",
      "K       214 non-null float64\n",
      "Ca      214 non-null float64\n",
      "Ba      214 non-null float64\n",
      "Fe      214 non-null float64\n",
      "Type    214 non-null int64\n",
      "dtypes: float64(9), int64(1)\n",
      "memory usage: 16.8 KB\n"
     ]
    }
   ],
   "source": [
    "db.info()"
   ]
  },
  {
   "cell_type": "markdown",
   "metadata": {},
   "source": [
    "3-How many instances has each class? Include the histogram of the classes."
   ]
  },
  {
   "cell_type": "code",
   "execution_count": 6,
   "metadata": {},
   "outputs": [
    {
     "data": {
      "text/plain": [
       "2    76\n",
       "1    70\n",
       "7    29\n",
       "3    17\n",
       "5    13\n",
       "6     9\n",
       "Name: Type, dtype: int64"
      ]
     },
     "execution_count": 6,
     "metadata": {},
     "output_type": "execute_result"
    }
   ],
   "source": [
    "db.dtypes\n",
    "db[\"Type\"].value_counts()"
   ]
  },
  {
   "cell_type": "code",
   "execution_count": 7,
   "metadata": {},
   "outputs": [
    {
     "data": {
      "image/png": "[encoded data removed]",
      "text/plain": [
       "<matplotlib.figure.Figure at 0x10bd78a20>"
      ]
     },
     "metadata": {},
     "output_type": "display_data"
    }
   ],
   "source": [
    "sn.countplot(db['Type'])\n",
    "plt.show()"
   ]
  },
  {
   "cell_type": "markdown",
   "metadata": {},
   "source": [
    "4-Is the data set balanced? If not, which is the class with less number of instances? it is not balance, class 6 has the lower number of instance 9. (4.2% of the entire dataset)"
   ]
  },
  {
   "cell_type": "code",
   "execution_count": 8,
   "metadata": {},
   "outputs": [
    {
     "data": {
      "text/plain": [
       "0.04205607476635514"
      ]
     },
     "execution_count": 8,
     "metadata": {},
     "output_type": "execute_result"
    }
   ],
   "source": [
    "#most populated classes\n",
    "p = (76+70+29+17+13+9)\n",
    "last_class = (9)\n",
    "last_class/p\n",
    "# of the instances belong type 1 and 2 together "
   ]
  },
  {
   "cell_type": "markdown",
   "metadata": {},
   "source": [
    "5-Describe the distribution of the variables of the dataset"
   ]
  },
  {
   "cell_type": "markdown",
   "metadata": {},
   "source": [
    "RI has high variance      \n",
    "Na has high variance    \n",
    "Mg has high variance but at 0 has many value     \n",
    "Al has high variance      \n",
    "Si has high variance      \n",
    "K has low variance, but few outlier   \n",
    "Ca has high variance     \n",
    "Ba is relatively peaked and low variance, they are all similar with some outliers     \n",
    "Fe  as well    "
   ]
  },
  {
   "cell_type": "code",
   "execution_count": null,
   "metadata": {},
   "outputs": [
    {
     "data": {
      "text/plain": [
       "array([[<matplotlib.axes._subplots.AxesSubplot object at 0x10be3a5f8>,\n",
       "        <matplotlib.axes._subplots.AxesSubplot object at 0x1a19d14048>,\n",
       "        <matplotlib.axes._subplots.AxesSubplot object at 0x1a19d4a668>],\n",
       "       [<matplotlib.axes._subplots.AxesSubplot object at 0x1a19d7fc88>,\n",
       "        <matplotlib.axes._subplots.AxesSubplot object at 0x1a19dbe828>,\n",
       "        <matplotlib.axes._subplots.AxesSubplot object at 0x1a19dbe860>],\n",
       "       [<matplotlib.axes._subplots.AxesSubplot object at 0x1a119437f0>,\n",
       "        <matplotlib.axes._subplots.AxesSubplot object at 0x1a19dfd470>,\n",
       "        <matplotlib.axes._subplots.AxesSubplot object at 0x1a19cd1fd0>],\n",
       "       [<matplotlib.axes._subplots.AxesSubplot object at 0x1a119a1fd0>,\n",
       "        <matplotlib.axes._subplots.AxesSubplot object at 0x1a19e58d30>,\n",
       "        <matplotlib.axes._subplots.AxesSubplot object at 0x1a19e99400>]], dtype=object)"
      ]
     },
     "execution_count": 9,
     "metadata": {},
     "output_type": "execute_result"
    }
   ],
   "source": [
    "features = db.columns[:-1].tolist()\n",
    "db[\"Type\"].value_counts() \n",
    "db.hist(bins=50, figsize=(30,15))"
   ]
  },
  {
   "cell_type": "code",
   "execution_count": null,
   "metadata": {},
   "outputs": [],
   "source": [
    "for i in features:\n",
    "    skew = db[i].skew()\n",
    "    sn.distplot(db[i], label='Skew = %.3f' %(skew))\n",
    "    plt.legend(loc='best')\n",
    "    plt.show()"
   ]
  },
  {
   "cell_type": "code",
   "execution_count": null,
   "metadata": {},
   "outputs": [],
   "source": [
    "def outlier_hunt(db):\n",
    "    \"\"\"\n",
    "    Takes a dataframe df of features and returns a list of the indices\n",
    "    corresponding to the observations containing more than 2 outliers. \n",
    "    \"\"\"\n",
    "    outlier_indices = []\n",
    "    \n",
    "    # iterate over features(columns)\n",
    "    for col in db.columns.tolist():\n",
    "        # 1st quartile (25%)\n",
    "        Q1 = np.percentile(db[col], 25)\n",
    "        \n",
    "        # 3rd quartile (75%)\n",
    "        Q3 = np.percentile(db[col],75)\n",
    "        \n",
    "        # Interquartile rrange (IQR)\n",
    "        IQR = Q3 - Q1\n",
    "        \n",
    "        # outlier step\n",
    "        outlier_step = 1.5 * IQR\n",
    "        \n",
    "        # Determine a list of indices of outliers for feature col\n",
    "        outlier_list_col = db[(db[col] < Q1 - outlier_step) | (db[col] > Q3 + outlier_step )].index\n",
    "        \n",
    "        # append the found outlier indices for col to the list of outlier indices \n",
    "        outlier_indices.extend(outlier_list_col)\n",
    "        \n",
    "    # select observations containing more than 2 outliers\n",
    "    outlier_indices = Counter(outlier_indices)        \n",
    "    multiple_outliers = list( k for k, v in outlier_indices.items() if v > 2 )\n",
    "    \n",
    "    return multiple_outliers   \n",
    "\n",
    "print('The dataset contains %d observations with more than 2 outliers' %(len(outlier_hunt(db[features]))))   "
   ]
  },
  {
   "cell_type": "code",
   "execution_count": null,
   "metadata": {
    "scrolled": false
   },
   "outputs": [],
   "source": [
    "i=0\n",
    "for col in db[features].columns.tolist():\n",
    "    i+=1\n",
    "    plt.figure(i)\n",
    "    sn.boxplot(db[features][col])\n",
    "    plt.show()"
   ]
  },
  {
   "cell_type": "markdown",
   "metadata": {},
   "source": [
    "# we will only analyze the top 4 most interesting\n",
    "RI has many outliers, but most of the density is concentrated in the middle 1.515-1.52\n",
    "Ba almost all of its density is at 0, but it has many outliers through the range.\n",
    "Mg seems to behave the best, without many outliers, and a very even density\n",
    "Fe is skewed to the left, with some outliers"
   ]
  },
  {
   "cell_type": "code",
   "execution_count": null,
   "metadata": {},
   "outputs": [],
   "source": [
    "\n",
    "\n",
    "plt.figure(figsize=(8,6))\n",
    "sn.boxplot(db[features])\n",
    "plt.show()"
   ]
  },
  {
   "cell_type": "code",
   "execution_count": 14,
   "metadata": {},
   "outputs": [
    {
     "data": {
      "text/plain": [
       "['RI', 'Na', 'Mg', 'Al', 'Si', 'K', 'Ca', 'Ba', 'Fe']"
      ]
     },
     "execution_count": 14,
     "metadata": {},
     "output_type": "execute_result"
    }
   ],
   "source": [
    "features\n"
   ]
  },
  {
   "cell_type": "markdown",
   "metadata": {},
   "source": [
    "# Exercise 2"
   ]
  },
  {
   "cell_type": "markdown",
   "metadata": {},
   "source": [
    "1-Based on the size of the data set, which of the train-test sets divisions techniques we have seen, would you use?"
   ]
  },
  {
   "cell_type": "markdown",
   "metadata": {},
   "source": [
    "Unbalnced dataset suggests prefer using cross validation technique. If we use one sinle random split is likely that the smaller reppresentative class would be excluded. Instead using CV, the probability to consider all the classes properly is higher.*Stratified cross-validation*: folds are stratified so that class dist. in each fold is approx. the same as that in the initial data"
   ]
  },
  {
   "cell_type": "code",
   "execution_count": 15,
   "metadata": {},
   "outputs": [
    {
     "name": "stdout",
     "output_type": "stream",
     "text": [
      "TRAIN: [  2   3   4   6   7   8   9  10  11  12  13  14  15  16  17  18  19  20\n",
      "  21  22  24  28  29  31  32  33  34  35  36  37  38  39  40  41  42  43\n",
      "  44  45  46  47  48  49  50  51  52  53  54  55  56  57  58  59  60  61\n",
      "  62  63  64  66  67  68  69  70  71  72  73  74  75  76  79  81  82  83\n",
      "  84  85  86  87  89  90  91  92  93  95  96  98  99 102 104 105 107 108\n",
      " 109 110 111 112 113 115 116 118 119 120 121 122 123 125 126 128 129 130\n",
      " 131 133 134 135 136 137 138 139 140 142 143 145 146 147 148 149 151 152\n",
      " 153 154 155 156 158 159 160 163 165 167 169 170 171 173 175 176 177 178\n",
      " 179 180 181 184 185 186 187 188 189 191 192 193 194 195 196 199 201 202\n",
      " 203 204 205 206 207 208 209 211 213] TEST: [  0   1   5  23  25  26  27  30  65  77  78  80  88  94  97 100 101 103\n",
      " 106 114 117 124 127 132 141 144 150 157 161 162 164 166 168 172 174 182\n",
      " 183 190 197 198 200 210 212]\n",
      "TRAIN: [  0   1   2   5   6   7   8   9  11  13  14  15  16  18  19  20  21  22\n",
      "  23  25  26  27  28  29  30  31  32  33  34  35  36  37  38  39  41  43\n",
      "  45  46  47  48  49  51  53  54  55  58  59  60  61  62  63  64  65  66\n",
      "  70  71  72  73  74  75  76  77  78  80  81  83  84  85  86  88  89  90\n",
      "  91  92  93  94  95  97  98  99 100 101 102 103 104 105 106 107 108 109\n",
      " 112 114 115 117 118 119 120 122 123 124 125 126 127 129 132 133 134 135\n",
      " 136 137 138 139 140 141 142 143 144 146 147 150 154 155 157 159 160 161\n",
      " 162 163 164 165 166 168 169 170 171 172 173 174 175 176 177 178 179 180\n",
      " 181 182 183 184 185 188 189 190 191 192 193 195 196 197 198 200 202 203\n",
      " 204 205 206 207 208 209 210 211 212] TEST: [  3   4  10  12  17  24  40  42  44  50  52  56  57  67  68  69  79  82\n",
      "  87  96 110 111 113 116 121 128 130 131 145 148 149 151 152 153 156 158\n",
      " 167 186 187 194 199 201 213]\n",
      "TRAIN: [  0   1   2   3   4   5   6   7   9  10  12  13  14  15  16  17  18  19\n",
      "  20  21  23  24  25  26  27  28  30  31  36  37  38  40  42  44  46  47\n",
      "  48  50  51  52  53  54  56  57  59  60  61  63  64  65  66  67  68  69\n",
      "  71  73  77  78  79  80  81  82  83  84  85  86  87  88  91  93  94  95\n",
      "  96  97  98 100 101 102 103 104 105 106 107 108 109 110 111 112 113 114\n",
      " 115 116 117 118 120 121 122 123 124 125 126 127 128 130 131 132 133 134\n",
      " 135 136 137 138 141 143 144 145 146 148 149 150 151 152 153 154 155 156\n",
      " 157 158 161 162 164 165 166 167 168 169 170 171 172 174 175 176 177 178\n",
      " 180 181 182 183 184 185 186 187 188 190 191 192 193 194 195 196 197 198\n",
      " 199 200 201 205 206 210 211 212 213] TEST: [  8  11  22  29  32  33  34  35  39  41  43  45  49  55  58  62  70  72\n",
      "  74  75  76  89  90  92  99 119 129 139 140 142 147 159 160 163 173 179\n",
      " 189 202 203 204 207 208 209]\n",
      "TRAIN: [  0   1   3   4   5   8   9  10  11  12  13  14  17  18  22  23  24  25\n",
      "  26  27  29  30  32  33  34  35  39  40  41  42  43  44  45  48  49  50\n",
      "  51  52  53  55  56  57  58  59  60  61  62  65  66  67  68  69  70  71\n",
      "  72  74  75  76  77  78  79  80  81  82  83  84  85  87  88  89  90  92\n",
      "  93  94  96  97  98  99 100 101 102 103 104 105 106 108 109 110 111 113\n",
      " 114 115 116 117 119 121 124 125 127 128 129 130 131 132 133 136 137 139\n",
      " 140 141 142 143 144 145 147 148 149 150 151 152 153 154 155 156 157 158\n",
      " 159 160 161 162 163 164 166 167 168 170 172 173 174 177 179 181 182 183\n",
      " 184 185 186 187 188 189 190 191 193 194 195 197 198 199 200 201 202 203\n",
      " 204 206 207 208 209 210 211 212 213] TEST: [  2   6   7  15  16  19  20  21  28  31  36  37  38  46  47  54  63  64\n",
      "  73  86  91  95 107 112 118 120 122 123 126 134 135 138 146 165 169 171\n",
      " 175 176 178 180 192 196 205]\n",
      "TRAIN: [  0   1   2   3   4   5   6   7   8  10  11  12  15  16  17  19  20  21\n",
      "  22  23  24  25  26  27  28  29  30  31  32  33  34  35  36  37  38  39\n",
      "  40  41  42  43  44  45  46  47  49  50  52  54  55  56  57  58  62  63\n",
      "  64  65  67  68  69  70  72  73  74  75  76  77  78  79  80  82  86  87\n",
      "  88  89  90  91  92  94  95  96  97  99 100 101 103 106 107 110 111 112\n",
      " 113 114 116 117 118 119 120 121 122 123 124 126 127 128 129 130 131 132\n",
      " 134 135 138 139 140 141 142 144 145 146 147 148 149 150 151 152 153 156\n",
      " 157 158 159 160 161 162 163 164 165 166 167 168 169 171 172 173 174 175\n",
      " 176 178 179 180 182 183 186 187 189 190 192 194 196 197 198 199 200 201\n",
      " 202 203 204 205 207 208 209 210 212 213] TEST: [  9  13  14  18  48  51  53  59  60  61  66  71  81  83  84  85  93  98\n",
      " 102 104 105 108 109 115 125 133 136 137 143 154 155 170 177 181 184 185\n",
      " 188 191 193 195 206 211]\n"
     ]
    }
   ],
   "source": [
    "shape = db.shape\n",
    "array = db.values\n",
    "\n",
    "#divide the datasets in 5-fold cross validation using 8 as random seed.\n",
    "X = array[:, 0:shape[1] - 1]\n",
    "y = array[:, shape[1] - 1]\n",
    "kf = KFold(n_splits=5,random_state=8, shuffle=True)\n",
    "kf.get_n_splits(X)\n",
    "\n",
    "\n",
    "\n",
    "for train_index, test_index in kf.split(X):\n",
    "    print(\"TRAIN:\", train_index, \"TEST:\", test_index)\n",
    "    X_train, X_test = X[train_index], X[test_index]\n",
    "    y_train, y_test = y[train_index], y[test_index]"
   ]
  },
  {
   "cell_type": "markdown",
   "metadata": {},
   "source": [
    "2-Implement a Naive Base, k-NN and Random Guesess models with the default parameters. Do not use features normalization. Which of the models present the highest accuracy?highest precision? highest F1?"
   ]
  },
  {
   "cell_type": "markdown",
   "metadata": {},
   "source": [
    "KNN \"won\" using every metric (see below)"
   ]
  },
  {
   "cell_type": "markdown",
   "metadata": {},
   "source": [
    "KNN"
   ]
  },
  {
   "cell_type": "code",
   "execution_count": 16,
   "metadata": {
    "collapsed": true
   },
   "outputs": [],
   "source": [
    "knn = KNeighborsClassifier(n_neighbors=3)"
   ]
  },
  {
   "cell_type": "code",
   "execution_count": 17,
   "metadata": {},
   "outputs": [
    {
     "data": {
      "text/plain": [
       "KNeighborsClassifier(algorithm='auto', leaf_size=30, metric='minkowski',\n",
       "           metric_params=None, n_jobs=1, n_neighbors=3, p=2,\n",
       "           weights='uniform')"
      ]
     },
     "execution_count": 17,
     "metadata": {},
     "output_type": "execute_result"
    }
   ],
   "source": [
    "knn.fit(X_train, y_train) "
   ]
  },
  {
   "cell_type": "code",
   "execution_count": 18,
   "metadata": {
    "collapsed": true
   },
   "outputs": [],
   "source": [
    "pred = knn.predict(X_test)"
   ]
  },
  {
   "cell_type": "code",
   "execution_count": 19,
   "metadata": {},
   "outputs": [
    {
     "data": {
      "text/plain": [
       "array([ 1.,  1.,  1.,  1.,  1.,  1.,  1.,  1.,  1.,  1.,  1.,  2.,  2.,\n",
       "        2.,  2.,  2.,  2.,  2.,  2.,  2.,  2.,  2.,  2.,  2.,  2.,  2.,\n",
       "        2.,  2.,  2.,  3.,  3.,  5.,  6.,  6.,  6.,  7.,  7.,  7.,  7.,\n",
       "        7.,  7.,  7.])"
      ]
     },
     "execution_count": 19,
     "metadata": {},
     "output_type": "execute_result"
    }
   ],
   "source": [
    "y_test\n"
   ]
  },
  {
   "cell_type": "code",
   "execution_count": 20,
   "metadata": {},
   "outputs": [
    {
     "name": "stdout",
     "output_type": "stream",
     "text": [
      "\n",
      "The accuracy of the Knn classifier for k = 4 is 69%\n",
      "\n",
      "The f1 scoring of Knn classifier  is 67%\n",
      "\n",
      "The precision of the Knn classifier  is 68%\n",
      "\n",
      "The recall of the knn classifier  is 69%\n"
     ]
    }
   ],
   "source": [
    "accKNN = accuracy_score(y_test, pred) * 100\n",
    "f1KNN = f1_score(y_test,pred,average='weighted')*100\n",
    "precisionKNN = precision_score(y_test, pred,average='weighted')*100\n",
    "recallKNN = recall_score(y_test, pred,average='weighted')*100\n",
    "print('\\nThe accuracy of the Knn classifier for k = 3 is %d%%' % accKNN)\n",
    "print('\\nThe f1 scoring of Knn classifier  is %d%%' % f1KNN)\n",
    "print('\\nThe precision of the Knn classifier  is %d%%' % precisionKNN)\n",
    "print('\\nThe recall of the knn classifier  is %d%%' % recallKNN)\n"
   ]
  },
  {
   "cell_type": "markdown",
   "metadata": {},
   "source": [
    "NB"
   ]
  },
  {
   "cell_type": "code",
   "execution_count": 21,
   "metadata": {
    "collapsed": true
   },
   "outputs": [],
   "source": [
    "from sklearn.naive_bayes import GaussianNB\n"
   ]
  },
  {
   "cell_type": "code",
   "execution_count": 22,
   "metadata": {},
   "outputs": [
    {
     "data": {
      "text/plain": [
       "GaussianNB(priors=None)"
      ]
     },
     "execution_count": 22,
     "metadata": {},
     "output_type": "execute_result"
    }
   ],
   "source": [
    "NB= GaussianNB()\n",
    "NB.fit(X_train, y_train)"
   ]
  },
  {
   "cell_type": "code",
   "execution_count": 23,
   "metadata": {
    "collapsed": true
   },
   "outputs": [],
   "source": [
    "predicts = NB.predict(X_test)"
   ]
  },
  {
   "cell_type": "code",
   "execution_count": 24,
   "metadata": {},
   "outputs": [
    {
     "name": "stdout",
     "output_type": "stream",
     "text": [
      "\n",
      "The accuracy of the NBclassifier is 47%\n",
      "\n",
      "The f1 scoring of NB classifier  is 40%\n",
      "\n",
      "The precision of the NB classifier  is 49%\n",
      "\n",
      "The recall of the NB classifier  is 47%\n"
     ]
    }
   ],
   "source": [
    "accNB = accuracy_score(y_test, predicts)*100\n",
    "f1NB = f1_score(y_test,predicts,average='weighted')*100\n",
    "precisionNB = precision_score(y_test, predicts,average='weighted')*100\n",
    "recallNB = recall_score(y_test, predicts,average='weighted')*100\n",
    "print('\\nThe accuracy of the NBclassifier is %d%%' % accNB)\n",
    "print('\\nThe f1 scoring of NB classifier  is %d%%' % f1NB)\n",
    "print('\\nThe precision of the NB classifier  is %d%%' % precisionNB)\n",
    "print('\\nThe recall of the NB classifier  is %d%%' % recallNB)\n"
   ]
  },
  {
   "cell_type": "markdown",
   "metadata": {},
   "source": [
    "Random Guess"
   ]
  },
  {
   "cell_type": "code",
   "execution_count": 25,
   "metadata": {
    "collapsed": true
   },
   "outputs": [],
   "source": [
    "RG = DummyClassifier(strategy='uniform')"
   ]
  },
  {
   "cell_type": "code",
   "execution_count": 26,
   "metadata": {},
   "outputs": [
    {
     "data": {
      "text/plain": [
       "DummyClassifier(constant=None, random_state=None, strategy='uniform')"
      ]
     },
     "execution_count": 26,
     "metadata": {},
     "output_type": "execute_result"
    }
   ],
   "source": [
    "RG.fit(X_train, y_train)"
   ]
  },
  {
   "cell_type": "code",
   "execution_count": 27,
   "metadata": {
    "collapsed": true
   },
   "outputs": [],
   "source": [
    "predict= RG.predict(X_test)"
   ]
  },
  {
   "cell_type": "code",
   "execution_count": 28,
   "metadata": {},
   "outputs": [
    {
     "name": "stdout",
     "output_type": "stream",
     "text": [
      "\n",
      "The accuracy of the RG classifier is 21%\n",
      "\n",
      "The f1 scoring of RG classifier  is 23%\n",
      "\n",
      "The precision of the RG classifier  is 33%\n",
      "\n",
      "The recall of the RG classifier  is 21%\n"
     ]
    }
   ],
   "source": [
    "accRG = accuracy_score(y_test, predict)*100\n",
    "f1RG = f1_score(y_test,predict,average='weighted')*100\n",
    "precisionRG = precision_score(y_test, predict,average='weighted')*100\n",
    "recallRG = recall_score(y_test, predict,average='weighted')*100\n",
    "print('\\nThe accuracy of the RG classifier is %d%%' % accRG)\n",
    "print('\\nThe f1 scoring of RG classifier  is %d%%' % f1RG)\n",
    "print('\\nThe precision of the RG classifier  is %d%%' % precisionRG)\n",
    "print('\\nThe recall of the RG classifier  is %d%%' % recallRG)"
   ]
  },
  {
   "cell_type": "markdown",
   "metadata": {},
   "source": [
    "If you aim to have a small number of False Negatives (FN), which of the models would you pick? Why?"
   ]
  },
  {
   "cell_type": "markdown",
   "metadata": {},
   "source": [
    "Because Recall= TP/(TP+FN) we pick the classifier with the highest Recall : The recall of the knn classifier is 70%"
   ]
  },
  {
   "cell_type": "markdown",
   "metadata": {},
   "source": [
    "# Exercise 3 "
   ]
  },
  {
   "cell_type": "markdown",
   "metadata": {},
   "source": [
    "1. Using GridSearchCV tune the parameters of the k-NN to improve its performance. Before applying GridSearchCV, divide the dataset in train and test set using the random split. Use the seed = 4 and the test set size = 30%. In particular verify with which of the number of neighbors among [1:100], k-NN gets the best performance, in terms of precision, recall, accuracy and F1. Which are the best number of neighbors, for these metrics? Report the metrics, are they increased?"
   ]
  },
  {
   "cell_type": "code",
   "execution_count": 29,
   "metadata": {
    "collapsed": true
   },
   "outputs": [],
   "source": [
    "X_train, X_test, y_train, y_test = train_test_split(X, y, test_size=0.30, random_state=4)"
   ]
  },
  {
   "cell_type": "code",
   "execution_count": 30,
   "metadata": {
    "collapsed": true
   },
   "outputs": [],
   "source": [
    "from sklearn.metrics import precision_score\n",
    "from sklearn.metrics import recall_score\n",
    "from sklearn.metrics import accuracy_score\n",
    "from sklearn.metrics import f1_score\n",
    "from sklearn.metrics import make_scorer"
   ]
  },
  {
   "cell_type": "code",
   "execution_count": 31,
   "metadata": {
    "collapsed": true
   },
   "outputs": [],
   "source": [
    "from sklearn.model_selection import GridSearchCV"
   ]
  },
  {
   "cell_type": "code",
   "execution_count": 32,
   "metadata": {
    "collapsed": true
   },
   "outputs": [],
   "source": [
    "scoring = {'precision':make_scorer(precision_score,average='weighted'), \n",
    "           'recall': make_scorer(recall_score,average='weighted'),\n",
    "           'accuracy':make_scorer(accuracy_score),\n",
    "           'f1_score':make_scorer(f1_score,average='weighted')}\n",
    "\n",
    "param_grid = {'n_neighbors':range(1,100)}\n",
    "\n",
    "clf =  KNeighborsClassifier()\n",
    "grid = GridSearchCV(clf,param_grid=param_grid,scoring=scoring,cv=5,refit='f1_score')\n",
    "grid.fit(X_train,y_train)\n",
    "\n",
    "results_raw = pd.DataFrame(grid.cv_results_)\n"
   ]
  },
  {
   "cell_type": "code",
   "execution_count": 33,
   "metadata": {},
   "outputs": [
    {
     "data": {
      "text/plain": [
       "Text(0,0.5,'Score')"
      ]
     },
     "execution_count": 33,
     "metadata": {},
     "output_type": "execute_result"
    },
    {
     "data": {
      "image/png": "[encoded data removed]",
      "text/plain": [
       "<matplotlib.figure.Figure at 0x1a22422da0>"
      ]
     },
     "metadata": {},
     "output_type": "display_data"
    }
   ],
   "source": [
    "\n",
    "selected_cols = [col for col in results_raw.columns.tolist() if 'mean' in col if 'time' not in col]\n",
    "results = results_raw[selected_cols]\n",
    "results.plot(figsize=(15,10),cmap='jet')\n",
    "plt.title('Knn for n=[1,100], precision, recall, acc, f1')\n",
    "plt.xlabel('N_neighbors')\n",
    "plt.ylabel('Score')"
   ]
  },
  {
   "cell_type": "code",
   "execution_count": 34,
   "metadata": {
    "scrolled": true
   },
   "outputs": [
    {
     "data": {
      "text/html": [
       "<div>\n",
       "<style>\n",
       "    .dataframe thead tr:only-child th {\n",
       "        text-align: right;\n",
       "    }\n",
       "\n",
       "    .dataframe thead th {\n",
       "        text-align: left;\n",
       "    }\n",
       "\n",
       "    .dataframe tbody tr th {\n",
       "        vertical-align: top;\n",
       "    }\n",
       "</style>\n",
       "<table border=\"1\" class=\"dataframe\">\n",
       "  <thead>\n",
       "    <tr style=\"text-align: right;\">\n",
       "      <th></th>\n",
       "      <th>max_vals</th>\n",
       "      <th>max_n</th>\n",
       "    </tr>\n",
       "  </thead>\n",
       "  <tbody>\n",
       "    <tr>\n",
       "      <th>mean_test_accuracy</th>\n",
       "      <td>0.630872</td>\n",
       "      <td>4.0</td>\n",
       "    </tr>\n",
       "    <tr>\n",
       "      <th>mean_test_f1_score</th>\n",
       "      <td>0.628608</td>\n",
       "      <td>4.0</td>\n",
       "    </tr>\n",
       "    <tr>\n",
       "      <th>mean_test_precision</th>\n",
       "      <td>0.679219</td>\n",
       "      <td>4.0</td>\n",
       "    </tr>\n",
       "    <tr>\n",
       "      <th>mean_test_recall</th>\n",
       "      <td>0.630872</td>\n",
       "      <td>4.0</td>\n",
       "    </tr>\n",
       "    <tr>\n",
       "      <th>mean_train_accuracy</th>\n",
       "      <td>1.000000</td>\n",
       "      <td>0.0</td>\n",
       "    </tr>\n",
       "    <tr>\n",
       "      <th>mean_train_f1_score</th>\n",
       "      <td>1.000000</td>\n",
       "      <td>0.0</td>\n",
       "    </tr>\n",
       "    <tr>\n",
       "      <th>mean_train_precision</th>\n",
       "      <td>1.000000</td>\n",
       "      <td>0.0</td>\n",
       "    </tr>\n",
       "    <tr>\n",
       "      <th>mean_train_recall</th>\n",
       "      <td>1.000000</td>\n",
       "      <td>0.0</td>\n",
       "    </tr>\n",
       "  </tbody>\n",
       "</table>\n",
       "</div>"
      ],
      "text/plain": [
       "                      max_vals  max_n\n",
       "mean_test_accuracy    0.630872    4.0\n",
       "mean_test_f1_score    0.628608    4.0\n",
       "mean_test_precision   0.679219    4.0\n",
       "mean_test_recall      0.630872    4.0\n",
       "mean_train_accuracy   1.000000    0.0\n",
       "mean_train_f1_score   1.000000    0.0\n",
       "mean_train_precision  1.000000    0.0\n",
       "mean_train_recall     1.000000    0.0"
      ]
     },
     "execution_count": 34,
     "metadata": {},
     "output_type": "execute_result"
    }
   ],
   "source": [
    "when_to_start_n =1\n",
    "max_results = pd.DataFrame(np.vstack([results.max(),np.argmax(results[when_to_start_n:].values,axis=0)]),columns=results.columns).T\n",
    "max_results.columns = ['max_vals','max_n']\n",
    "max_results"
   ]
  },
  {
   "cell_type": "markdown",
   "metadata": {},
   "source": [
    "2-Using GridSearchCV tune the parameters of an SVM model with a linear kernel. Before applying GridSearchCV, divide the dataset in train and test set using the random split. Use the seed = 4 and the test set size = 30%. In particular verify with which of the values of the parameter C (searching among: C = [0.001, 0.01, 0.1, 1, 10, 100]), SVM gets the best performance, in terms of precision, recall, accuracy and F1. Which is the best value for C, for these metrics? Report the metrics."
   ]
  },
  {
   "cell_type": "code",
   "execution_count": 35,
   "metadata": {
    "collapsed": true
   },
   "outputs": [],
   "source": [
    "shape = db.shape\n",
    "array = db.values\n",
    "\n",
    "# Divide the dataset into X and Y\n",
    "X = array[:, 0:shape[1] - 1]\n",
    "y = array[:, shape[1] - 1]\n",
    "\n",
    "# Randomly split the dataset into train and test set\n",
    "X_train, X_test, y_train, y_test = train_test_split(\n",
    " X, y, test_size=0.30, random_state=4)"
   ]
  },
  {
   "cell_type": "code",
   "execution_count": 36,
   "metadata": {
    "collapsed": true
   },
   "outputs": [],
   "source": [
    "scoring = {'precision':make_scorer(precision_score,average='weighted'), \n",
    "           'recall': make_scorer(recall_score,average='weighted'),\n",
    "           'accuracy':make_scorer(accuracy_score),\n",
    "           'f1_score':make_scorer(f1_score,average='weighted')}\n",
    "\n",
    "param_grid = {'svc__C': [0.001, 0.01, 0.1, 1, 10, 100] }\n",
    "\n",
    "clf =  clf = make_pipeline(MinMaxScaler(), svm.SVC(kernel ='linear'))\n",
    "grid = GridSearchCV(clf,param_grid=param_grid,scoring=scoring,cv=5,refit='f1_score')\n",
    "grid.fit(X_train,y_train)\n",
    "\n",
    "results_raw = pd.DataFrame(grid.cv_results_,index=[0.001, 0.01, 0.1, 1, 10, 100])\n",
    "selected_cols = [col for col in results_raw.columns.tolist() if 'mean' in col if 'time' not in col]\n",
    "results = results_raw[selected_cols]"
   ]
  },
  {
   "cell_type": "code",
   "execution_count": 37,
   "metadata": {},
   "outputs": [
    {
     "data": {
      "text/plain": [
       "Text(0,0.5,'Score')"
      ]
     },
     "execution_count": 37,
     "metadata": {},
     "output_type": "execute_result"
    },
    {
     "data": {
      "image/png": "[encoded data removed]",
      "text/plain": [
       "<matplotlib.figure.Figure at 0x1a22417198>"
      ]
     },
     "metadata": {},
     "output_type": "display_data"
    }
   ],
   "source": [
    "results.plot(kind='bar',figsize=(15,10),cmap='jet')\n",
    "plt.title('SVC for C=[0.001, 0.01, 0.1, 1, 10, 100], precision, recall, acc, f1')\n",
    "plt.xlabel('C')\n",
    "plt.ylabel('Score')"
   ]
  },
  {
   "cell_type": "code",
   "execution_count": 38,
   "metadata": {},
   "outputs": [
    {
     "data": {
      "text/html": [
       "<div>\n",
       "<style>\n",
       "    .dataframe thead tr:only-child th {\n",
       "        text-align: right;\n",
       "    }\n",
       "\n",
       "    .dataframe thead th {\n",
       "        text-align: left;\n",
       "    }\n",
       "\n",
       "    .dataframe tbody tr th {\n",
       "        vertical-align: top;\n",
       "    }\n",
       "</style>\n",
       "<table border=\"1\" class=\"dataframe\">\n",
       "  <thead>\n",
       "    <tr style=\"text-align: right;\">\n",
       "      <th></th>\n",
       "      <th>mean_test_accuracy</th>\n",
       "      <th>mean_test_f1_score</th>\n",
       "      <th>mean_test_precision</th>\n",
       "      <th>mean_test_recall</th>\n",
       "      <th>mean_train_accuracy</th>\n",
       "      <th>mean_train_f1_score</th>\n",
       "      <th>mean_train_precision</th>\n",
       "      <th>mean_train_recall</th>\n",
       "    </tr>\n",
       "  </thead>\n",
       "  <tbody>\n",
       "    <tr>\n",
       "      <th>0.001</th>\n",
       "      <td>0.375839</td>\n",
       "      <td>0.246439</td>\n",
       "      <td>0.205778</td>\n",
       "      <td>0.375839</td>\n",
       "      <td>0.374286</td>\n",
       "      <td>0.245489</td>\n",
       "      <td>0.206404</td>\n",
       "      <td>0.374286</td>\n",
       "    </tr>\n",
       "    <tr>\n",
       "      <th>0.010</th>\n",
       "      <td>0.375839</td>\n",
       "      <td>0.246439</td>\n",
       "      <td>0.205778</td>\n",
       "      <td>0.375839</td>\n",
       "      <td>0.374286</td>\n",
       "      <td>0.245489</td>\n",
       "      <td>0.206404</td>\n",
       "      <td>0.374286</td>\n",
       "    </tr>\n",
       "    <tr>\n",
       "      <th>0.100</th>\n",
       "      <td>0.375839</td>\n",
       "      <td>0.246439</td>\n",
       "      <td>0.205778</td>\n",
       "      <td>0.375839</td>\n",
       "      <td>0.377619</td>\n",
       "      <td>0.251974</td>\n",
       "      <td>0.256054</td>\n",
       "      <td>0.377619</td>\n",
       "    </tr>\n",
       "    <tr>\n",
       "      <th>1.000</th>\n",
       "      <td>0.496644</td>\n",
       "      <td>0.424207</td>\n",
       "      <td>0.398089</td>\n",
       "      <td>0.496644</td>\n",
       "      <td>0.538591</td>\n",
       "      <td>0.476833</td>\n",
       "      <td>0.483407</td>\n",
       "      <td>0.538591</td>\n",
       "    </tr>\n",
       "    <tr>\n",
       "      <th>10.000</th>\n",
       "      <td>0.570470</td>\n",
       "      <td>0.529556</td>\n",
       "      <td>0.527474</td>\n",
       "      <td>0.570470</td>\n",
       "      <td>0.652821</td>\n",
       "      <td>0.619657</td>\n",
       "      <td>0.606816</td>\n",
       "      <td>0.652821</td>\n",
       "    </tr>\n",
       "    <tr>\n",
       "      <th>100.000</th>\n",
       "      <td>0.543624</td>\n",
       "      <td>0.514570</td>\n",
       "      <td>0.524569</td>\n",
       "      <td>0.543624</td>\n",
       "      <td>0.689544</td>\n",
       "      <td>0.665887</td>\n",
       "      <td>0.659376</td>\n",
       "      <td>0.689544</td>\n",
       "    </tr>\n",
       "  </tbody>\n",
       "</table>\n",
       "</div>"
      ],
      "text/plain": [
       "         mean_test_accuracy  mean_test_f1_score  mean_test_precision  \\\n",
       "0.001              0.375839            0.246439             0.205778   \n",
       "0.010              0.375839            0.246439             0.205778   \n",
       "0.100              0.375839            0.246439             0.205778   \n",
       "1.000              0.496644            0.424207             0.398089   \n",
       "10.000             0.570470            0.529556             0.527474   \n",
       "100.000            0.543624            0.514570             0.524569   \n",
       "\n",
       "         mean_test_recall  mean_train_accuracy  mean_train_f1_score  \\\n",
       "0.001            0.375839             0.374286             0.245489   \n",
       "0.010            0.375839             0.374286             0.245489   \n",
       "0.100            0.375839             0.377619             0.251974   \n",
       "1.000            0.496644             0.538591             0.476833   \n",
       "10.000           0.570470             0.652821             0.619657   \n",
       "100.000          0.543624             0.689544             0.665887   \n",
       "\n",
       "         mean_train_precision  mean_train_recall  \n",
       "0.001                0.206404           0.374286  \n",
       "0.010                0.206404           0.374286  \n",
       "0.100                0.256054           0.377619  \n",
       "1.000                0.483407           0.538591  \n",
       "10.000               0.606816           0.652821  \n",
       "100.000              0.659376           0.689544  "
      ]
     },
     "execution_count": 38,
     "metadata": {},
     "output_type": "execute_result"
    }
   ],
   "source": [
    "results\n"
   ]
  },
  {
   "cell_type": "markdown",
   "metadata": {},
   "source": [
    "best precision k= 10, best recall k= 10, best accuracy k= 10,best F1 k=10"
   ]
  },
  {
   "cell_type": "markdown",
   "metadata": {},
   "source": [
    "3-Compare the results you obtained using k-NN and SVM. Which of the two models would pick if your aim was to have a small number of False Positives (FP)? Why?"
   ]
  },
  {
   "cell_type": "markdown",
   "metadata": {},
   "source": [
    "precision = TP/(TP+FP) we pick the classifier with the highest Precision : knn (0.679219) vs svc (k=10, 0.527474)"
   ]
  },
  {
   "cell_type": "code",
   "execution_count": null,
   "metadata": {
    "collapsed": true
   },
   "outputs": [],
   "source": []
  }
 ],
 "metadata": {
  "kernelspec": {
   "display_name": "Python 3",
   "language": "python",
   "name": "python3"
  },
  "language_info": {
   "codemirror_mode": {
    "name": "ipython",
    "version": 3
   },
   "file_extension": ".py",
   "mimetype": "text/x-python",
   "name": "python",
   "nbconvert_exporter": "python",
   "pygments_lexer": "ipython3",
   "version": "3.6.3"
  },
  "varInspector": {
   "cols": {
    "lenName": 16,
    "lenType": 16,
    "lenVar": 40
   },
   "kernels_config": {
    "python": {
     "delete_cmd_postfix": "",
     "delete_cmd_prefix": "del ",
     "library": "var_list.py",
     "varRefreshCmd": "print(var_dic_list())"
    },
    "r": {
     "delete_cmd_postfix": ") ",
     "delete_cmd_prefix": "rm(",
     "library": "var_list.r",
     "varRefreshCmd": "cat(var_dic_list()) "
    }
   },
   "types_to_exclude": [
    "module",
    "function",
    "builtin_function_or_method",
    "instance",
    "_Feature"
   ],
   "window_display": false
  }
 },
 "nbformat": 4,
 "nbformat_minor": 2
}

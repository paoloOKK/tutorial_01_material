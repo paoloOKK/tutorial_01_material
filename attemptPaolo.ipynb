{
 "cells": [
  {
   "cell_type": "code",
   "execution_count": 11,
   "metadata": {
    "collapsed": true
   },
   "outputs": [],
   "source": [
    "import pandas as pd\n",
    "import sys\n",
    "import numpy as np\n",
    "import scipy as sc\n",
    "import mglearn.plots\n",
    "%matplotlib inline\n",
    "import matplotlib.pyplot as plt\n",
    "import seaborn as sn\n",
    "import os\n",
    "from sklearn.svm import SVC\n",
    "from sklearn.model_selection import train_test_split\n",
    "from sklearn.model_selection import KFold\n",
    "from sklearn.preprocessing import MinMaxScaler\n",
    "from sklearn import svm\n",
    "from sklearn.neighbors import KNeighborsClassifier\n",
    "from sklearn.metrics import accuracy_score\n",
    "from sklearn.metrics import recall_score\n",
    "from sklearn.metrics import precision_score\n",
    "from sklearn.metrics import confusion_matrix\n",
    "from sklearn import metrics\n",
    "from sklearn import dummy\n",
    "from IPython.display import Image\n",
    "from sklearn.model_selection import GridSearchCV\n",
    "from sklearn.pipeline import make_pipeline\n",
    "from sklearn.model_selection import cross_val_score\n"
   ]
  },
  {
   "cell_type": "code",
   "execution_count": 12,
   "metadata": {
    "collapsed": true
   },
   "outputs": [],
   "source": [
    "#LOADING DATA\n",
    "db = pd.read_csv('glass.csv')"
   ]
  },
  {
   "cell_type": "code",
   "execution_count": 13,
   "metadata": {},
   "outputs": [
    {
     "data": {
      "text/html": [
       "<div>\n",
       "<style>\n",
       "    .dataframe thead tr:only-child th {\n",
       "        text-align: right;\n",
       "    }\n",
       "\n",
       "    .dataframe thead th {\n",
       "        text-align: left;\n",
       "    }\n",
       "\n",
       "    .dataframe tbody tr th {\n",
       "        vertical-align: top;\n",
       "    }\n",
       "</style>\n",
       "<table border=\"1\" class=\"dataframe\">\n",
       "  <thead>\n",
       "    <tr style=\"text-align: right;\">\n",
       "      <th></th>\n",
       "      <th>RI</th>\n",
       "      <th>Na</th>\n",
       "      <th>Mg</th>\n",
       "      <th>Al</th>\n",
       "      <th>Si</th>\n",
       "      <th>K</th>\n",
       "      <th>Ca</th>\n",
       "      <th>Ba</th>\n",
       "      <th>Fe</th>\n",
       "      <th>Type</th>\n",
       "    </tr>\n",
       "  </thead>\n",
       "  <tbody>\n",
       "    <tr>\n",
       "      <th>0</th>\n",
       "      <td>1.52101</td>\n",
       "      <td>13.64</td>\n",
       "      <td>4.49</td>\n",
       "      <td>1.10</td>\n",
       "      <td>71.78</td>\n",
       "      <td>0.06</td>\n",
       "      <td>8.75</td>\n",
       "      <td>0.0</td>\n",
       "      <td>0.0</td>\n",
       "      <td>1</td>\n",
       "    </tr>\n",
       "    <tr>\n",
       "      <th>1</th>\n",
       "      <td>1.51761</td>\n",
       "      <td>13.89</td>\n",
       "      <td>3.60</td>\n",
       "      <td>1.36</td>\n",
       "      <td>72.73</td>\n",
       "      <td>0.48</td>\n",
       "      <td>7.83</td>\n",
       "      <td>0.0</td>\n",
       "      <td>0.0</td>\n",
       "      <td>1</td>\n",
       "    </tr>\n",
       "    <tr>\n",
       "      <th>2</th>\n",
       "      <td>1.51618</td>\n",
       "      <td>13.53</td>\n",
       "      <td>3.55</td>\n",
       "      <td>1.54</td>\n",
       "      <td>72.99</td>\n",
       "      <td>0.39</td>\n",
       "      <td>7.78</td>\n",
       "      <td>0.0</td>\n",
       "      <td>0.0</td>\n",
       "      <td>1</td>\n",
       "    </tr>\n",
       "    <tr>\n",
       "      <th>3</th>\n",
       "      <td>1.51766</td>\n",
       "      <td>13.21</td>\n",
       "      <td>3.69</td>\n",
       "      <td>1.29</td>\n",
       "      <td>72.61</td>\n",
       "      <td>0.57</td>\n",
       "      <td>8.22</td>\n",
       "      <td>0.0</td>\n",
       "      <td>0.0</td>\n",
       "      <td>1</td>\n",
       "    </tr>\n",
       "    <tr>\n",
       "      <th>4</th>\n",
       "      <td>1.51742</td>\n",
       "      <td>13.27</td>\n",
       "      <td>3.62</td>\n",
       "      <td>1.24</td>\n",
       "      <td>73.08</td>\n",
       "      <td>0.55</td>\n",
       "      <td>8.07</td>\n",
       "      <td>0.0</td>\n",
       "      <td>0.0</td>\n",
       "      <td>1</td>\n",
       "    </tr>\n",
       "  </tbody>\n",
       "</table>\n",
       "</div>"
      ],
      "text/plain": [
       "        RI     Na    Mg    Al     Si     K    Ca   Ba   Fe  Type\n",
       "0  1.52101  13.64  4.49  1.10  71.78  0.06  8.75  0.0  0.0     1\n",
       "1  1.51761  13.89  3.60  1.36  72.73  0.48  7.83  0.0  0.0     1\n",
       "2  1.51618  13.53  3.55  1.54  72.99  0.39  7.78  0.0  0.0     1\n",
       "3  1.51766  13.21  3.69  1.29  72.61  0.57  8.22  0.0  0.0     1\n",
       "4  1.51742  13.27  3.62  1.24  73.08  0.55  8.07  0.0  0.0     1"
      ]
     },
     "execution_count": 13,
     "metadata": {},
     "output_type": "execute_result"
    }
   ],
   "source": [
    "#Step 2. Explore the dataset structure\n",
    "db.head()"
   ]
  },
  {
   "cell_type": "code",
   "execution_count": 14,
   "metadata": {
    "collapsed": true
   },
   "outputs": [],
   "source": [
    "shape = db.shape\n",
    "array = db.values\n",
    "\n",
    "# Divide the dataset into X and Y\n",
    "X = array[:, 0:shape[1] - 1]\n",
    "y = array[:, shape[1] - 1]"
   ]
  },
  {
   "cell_type": "code",
   "execution_count": 15,
   "metadata": {},
   "outputs": [
    {
     "name": "stdout",
     "output_type": "stream",
     "text": [
      "TRAIN: [  2   3   4   6   7   8   9  10  11  12  13  14  15  16  17  18  19  20\n",
      "  21  22  24  28  29  31  32  33  34  35  36  37  38  39  40  41  42  43\n",
      "  44  45  46  47  48  49  50  51  52  53  54  55  56  57  58  59  60  61\n",
      "  62  63  64  66  67  68  69  70  71  72  73  74  75  76  79  81  82  83\n",
      "  84  85  86  87  89  90  91  92  93  95  96  98  99 102 104 105 107 108\n",
      " 109 110 111 112 113 115 116 118 119 120 121 122 123 125 126 128 129 130\n",
      " 131 133 134 135 136 137 138 139 140 142 143 145 146 147 148 149 151 152\n",
      " 153 154 155 156 158 159 160 163 165 167 169 170 171 173 175 176 177 178\n",
      " 179 180 181 184 185 186 187 188 189 191 192 193 194 195 196 199 201 202\n",
      " 203 204 205 206 207 208 209 211 213] TEST: [  0   1   5  23  25  26  27  30  65  77  78  80  88  94  97 100 101 103\n",
      " 106 114 117 124 127 132 141 144 150 157 161 162 164 166 168 172 174 182\n",
      " 183 190 197 198 200 210 212]\n",
      "TRAIN: [  0   1   2   5   6   7   8   9  11  13  14  15  16  18  19  20  21  22\n",
      "  23  25  26  27  28  29  30  31  32  33  34  35  36  37  38  39  41  43\n",
      "  45  46  47  48  49  51  53  54  55  58  59  60  61  62  63  64  65  66\n",
      "  70  71  72  73  74  75  76  77  78  80  81  83  84  85  86  88  89  90\n",
      "  91  92  93  94  95  97  98  99 100 101 102 103 104 105 106 107 108 109\n",
      " 112 114 115 117 118 119 120 122 123 124 125 126 127 129 132 133 134 135\n",
      " 136 137 138 139 140 141 142 143 144 146 147 150 154 155 157 159 160 161\n",
      " 162 163 164 165 166 168 169 170 171 172 173 174 175 176 177 178 179 180\n",
      " 181 182 183 184 185 188 189 190 191 192 193 195 196 197 198 200 202 203\n",
      " 204 205 206 207 208 209 210 211 212] TEST: [  3   4  10  12  17  24  40  42  44  50  52  56  57  67  68  69  79  82\n",
      "  87  96 110 111 113 116 121 128 130 131 145 148 149 151 152 153 156 158\n",
      " 167 186 187 194 199 201 213]\n",
      "TRAIN: [  0   1   2   3   4   5   6   7   9  10  12  13  14  15  16  17  18  19\n",
      "  20  21  23  24  25  26  27  28  30  31  36  37  38  40  42  44  46  47\n",
      "  48  50  51  52  53  54  56  57  59  60  61  63  64  65  66  67  68  69\n",
      "  71  73  77  78  79  80  81  82  83  84  85  86  87  88  91  93  94  95\n",
      "  96  97  98 100 101 102 103 104 105 106 107 108 109 110 111 112 113 114\n",
      " 115 116 117 118 120 121 122 123 124 125 126 127 128 130 131 132 133 134\n",
      " 135 136 137 138 141 143 144 145 146 148 149 150 151 152 153 154 155 156\n",
      " 157 158 161 162 164 165 166 167 168 169 170 171 172 174 175 176 177 178\n",
      " 180 181 182 183 184 185 186 187 188 190 191 192 193 194 195 196 197 198\n",
      " 199 200 201 205 206 210 211 212 213] TEST: [  8  11  22  29  32  33  34  35  39  41  43  45  49  55  58  62  70  72\n",
      "  74  75  76  89  90  92  99 119 129 139 140 142 147 159 160 163 173 179\n",
      " 189 202 203 204 207 208 209]\n",
      "TRAIN: [  0   1   3   4   5   8   9  10  11  12  13  14  17  18  22  23  24  25\n",
      "  26  27  29  30  32  33  34  35  39  40  41  42  43  44  45  48  49  50\n",
      "  51  52  53  55  56  57  58  59  60  61  62  65  66  67  68  69  70  71\n",
      "  72  74  75  76  77  78  79  80  81  82  83  84  85  87  88  89  90  92\n",
      "  93  94  96  97  98  99 100 101 102 103 104 105 106 108 109 110 111 113\n",
      " 114 115 116 117 119 121 124 125 127 128 129 130 131 132 133 136 137 139\n",
      " 140 141 142 143 144 145 147 148 149 150 151 152 153 154 155 156 157 158\n",
      " 159 160 161 162 163 164 166 167 168 170 172 173 174 177 179 181 182 183\n",
      " 184 185 186 187 188 189 190 191 193 194 195 197 198 199 200 201 202 203\n",
      " 204 206 207 208 209 210 211 212 213] TEST: [  2   6   7  15  16  19  20  21  28  31  36  37  38  46  47  54  63  64\n",
      "  73  86  91  95 107 112 118 120 122 123 126 134 135 138 146 165 169 171\n",
      " 175 176 178 180 192 196 205]\n",
      "TRAIN: [  0   1   2   3   4   5   6   7   8  10  11  12  15  16  17  19  20  21\n",
      "  22  23  24  25  26  27  28  29  30  31  32  33  34  35  36  37  38  39\n",
      "  40  41  42  43  44  45  46  47  49  50  52  54  55  56  57  58  62  63\n",
      "  64  65  67  68  69  70  72  73  74  75  76  77  78  79  80  82  86  87\n",
      "  88  89  90  91  92  94  95  96  97  99 100 101 103 106 107 110 111 112\n",
      " 113 114 116 117 118 119 120 121 122 123 124 126 127 128 129 130 131 132\n",
      " 134 135 138 139 140 141 142 144 145 146 147 148 149 150 151 152 153 156\n",
      " 157 158 159 160 161 162 163 164 165 166 167 168 169 171 172 173 174 175\n",
      " 176 178 179 180 182 183 186 187 189 190 192 194 196 197 198 199 200 201\n",
      " 202 203 204 205 207 208 209 210 212 213] TEST: [  9  13  14  18  48  51  53  59  60  61  66  71  81  83  84  85  93  98\n",
      " 102 104 105 108 109 115 125 133 136 137 143 154 155 170 177 181 184 185\n",
      " 188 191 193 195 206 211]\n"
     ]
    }
   ],
   "source": [
    "kf = KFold(n_splits=5,random_state=8, shuffle=True)\n",
    "kf.get_n_splits(X)\n",
    "\n",
    "# we divide the datasets in 10 folds, we use 4 as seed for the random generator and we shuffle the elements\n",
    "for train_index, test_index in kf.split(X):\n",
    "    print(\"TRAIN:\", train_index, \"TEST:\", test_index)\n",
    "    X_train, X_test = X[train_index], X[test_index]\n",
    "    y_train, y_test = y[train_index], y[test_index]"
   ]
  },
  {
   "cell_type": "code",
   "execution_count": 16,
   "metadata": {
    "collapsed": true
   },
   "outputs": [],
   "source": [
    "from sklearn.naive_bayes import MultinomialNB\n",
    "from sklearn.neighbors import KNeighborsClassifier\n",
    "from sklearn.dummy import DummyClassifier"
   ]
  },
  {
   "cell_type": "code",
   "execution_count": 17,
   "metadata": {
    "collapsed": true
   },
   "outputs": [],
   "source": [
    "clf = MultinomialNB()"
   ]
  },
  {
   "cell_type": "code",
   "execution_count": null,
   "metadata": {
    "collapsed": true
   },
   "outputs": [],
   "source": []
  },
  {
   "cell_type": "code",
   "execution_count": 18,
   "metadata": {
    "collapsed": true
   },
   "outputs": [],
   "source": [
    "from sklearn.metrics import f1_score\n",
    "from sklearn.model_selection import cross_val_score"
   ]
  },
  {
   "cell_type": "code",
   "execution_count": 19,
   "metadata": {
    "collapsed": true
   },
   "outputs": [],
   "source": [
    "import collections\n",
    "results = collections.defaultdict(dict)"
   ]
  },
  {
   "cell_type": "code",
   "execution_count": null,
   "metadata": {
    "collapsed": true
   },
   "outputs": [],
   "source": []
  },
  {
   "cell_type": "code",
   "execution_count": 20,
   "metadata": {},
   "outputs": [
    {
     "data": {
      "text/plain": [
       "5"
      ]
     },
     "execution_count": 20,
     "metadata": {},
     "output_type": "execute_result"
    }
   ],
   "source": [
    "clf1 =  MultinomialNB()\n",
    "clf2 = KNeighborsClassifier()\n",
    "clf3 = DummyClassifier(strategy='uniform')\n",
    "clfs =[clf1,clf2,clf3]\n",
    "names = ['nb','knn','rg']\n",
    "results = dict()\n",
    "kf = KFold(n_splits=5,random_state=8, shuffle=True)\n",
    "kf.get_n_splits(X)"
   ]
  },
  {
   "cell_type": "code",
   "execution_count": 21,
   "metadata": {},
   "outputs": [
    {
     "name": "stdout",
     "output_type": "stream",
     "text": [
      "0\n",
      "0\n",
      "0\n",
      "0\n",
      "0\n",
      "1\n",
      "1\n",
      "1\n",
      "1\n",
      "1\n",
      "2\n",
      "2\n",
      "2\n",
      "2\n",
      "2\n"
     ]
    },
    {
     "name": "stderr",
     "output_type": "stream",
     "text": [
      "/Users/Paolo/anaconda3/lib/python3.6/site-packages/sklearn/metrics/classification.py:1137: UndefinedMetricWarning: F-score is ill-defined and being set to 0.0 in labels with no true samples.\n",
      "  'recall', 'true', average, warn_for)\n",
      "/Users/Paolo/anaconda3/lib/python3.6/site-packages/sklearn/metrics/classification.py:1135: UndefinedMetricWarning: F-score is ill-defined and being set to 0.0 in labels with no predicted samples.\n",
      "  'precision', 'predicted', average, warn_for)\n"
     ]
    }
   ],
   "source": [
    "for i, clf in enumerate(clfs):\n",
    "    results[names[i]] = []\n",
    "    for train_index, test_index in kf.split(X):\n",
    "        print(i)\n",
    "        X_train, X_test = X[train_index], X[test_index];\n",
    "        y_train, y_test = y[train_index], y[test_index];\n",
    "\n",
    "        clf.fit(X_train,y_train)\n",
    "        y_pred = clf.predict(X_test)\n",
    "        results[names[i]].append(f1_score(y_pred, y_test, average='weighted') )\n"
   ]
  },
  {
   "cell_type": "code",
   "execution_count": 22,
   "metadata": {},
   "outputs": [
    {
     "data": {
      "text/plain": [
       "array([ 2.,  1.,  5.,  1.,  5.,  6.,  5.,  5.,  5.,  1.,  6.,  7.,  5.,\n",
       "        6.,  2.,  1.,  2.,  1.,  7.,  7.,  2.,  1.,  2.,  1.,  1.,  2.,\n",
       "        3.,  6.,  7.,  3.,  7.,  6.,  7.,  5.,  7.,  2.,  3.,  5.,  2.,\n",
       "        6.,  7.,  6.])"
      ]
     },
     "execution_count": 22,
     "metadata": {},
     "output_type": "execute_result"
    }
   ],
   "source": [
    "y_pred"
   ]
  },
  {
   "cell_type": "code",
   "execution_count": 23,
   "metadata": {},
   "outputs": [
    {
     "data": {
      "text/plain": [
       "array([ 1.,  1.,  1.,  1.,  1.,  1.,  1.,  1.,  1.,  1.,  1.,  2.,  2.,\n",
       "        2.,  2.,  2.,  2.,  2.,  2.,  2.,  2.,  2.,  2.,  2.,  2.,  2.,\n",
       "        2.,  2.,  2.,  3.,  3.,  5.,  6.,  6.,  6.,  7.,  7.,  7.,  7.,\n",
       "        7.,  7.,  7.])"
      ]
     },
     "execution_count": 23,
     "metadata": {},
     "output_type": "execute_result"
    }
   ],
   "source": [
    "y_test"
   ]
  },
  {
   "cell_type": "code",
   "execution_count": 24,
   "metadata": {},
   "outputs": [
    {
     "data": {
      "text/plain": [
       "{'knn': [0.51417497231450726,\n",
       "  0.64961240310077517,\n",
       "  0.81484794275491956,\n",
       "  0.76328903654485047,\n",
       "  0.71233766233766227],\n",
       " 'nb': [0.55113605987703818,\n",
       "  0.43531662136313293,\n",
       "  0.66167846309403444,\n",
       "  0.55132385191876798,\n",
       "  0.49235842985842981],\n",
       " 'rg': [0.19413226512369716,\n",
       "  0.062593288073571188,\n",
       "  0.1251529057393567,\n",
       "  0.18788249694002448,\n",
       "  0.18737870316817684]}"
      ]
     },
     "execution_count": 24,
     "metadata": {},
     "output_type": "execute_result"
    }
   ],
   "source": [
    "results\n"
   ]
  },
  {
   "cell_type": "code",
   "execution_count": 25,
   "metadata": {},
   "outputs": [
    {
     "name": "stdout",
     "output_type": "stream",
     "text": [
      "precision: [ 0.375       0.625       0.33333333  0.          0.          0.125     ]\n",
      "recall: [ 0.27272727  0.27777778  0.5         0.          0.          0.14285714]\n",
      "fscore: [ 0.31578947  0.38461538  0.4         0.          0.          0.13333333]\n",
      "support: [11 18  2  1  3  7]\n"
     ]
    }
   ],
   "source": [
    "from sklearn.metrics import precision_recall_fscore_support as score\n",
    "\n",
    "\n",
    "\n",
    "precision, recall, fscore, support = score(y_test, y_pred)\n",
    "\n",
    "print('precision: {}'.format(precision))\n",
    "print('recall: {}'.format(recall))\n",
    "print('fscore: {}'.format(fscore))\n",
    "print('support: {}'.format(support))"
   ]
  },
  {
   "cell_type": "code",
   "execution_count": 26,
   "metadata": {
    "collapsed": true
   },
   "outputs": [],
   "source": [
    "#Exercise 3 #\n",
    "# 1st part\n",
    "\n"
   ]
  },
  {
   "cell_type": "code",
   "execution_count": 27,
   "metadata": {},
   "outputs": [
    {
     "name": "stdout",
     "output_type": "stream",
     "text": [
      "(65, 9)\n"
     ]
    },
    {
     "data": {
      "text/plain": [
       "<matplotlib.axes._subplots.AxesSubplot at 0x1c16f349b0>"
      ]
     },
     "execution_count": 27,
     "metadata": {},
     "output_type": "execute_result"
    },
    {
     "data": {
      "image/png": "[encoded data removed]",
      "text/plain": [
       "<matplotlib.figure.Figure at 0x1c16f34320>"
      ]
     },
     "metadata": {},
     "output_type": "display_data"
    }
   ],
   "source": [
    "# random split seed 4 and test size 0.30\n",
    "shape = db.shape\n",
    "array = db.values\n",
    "\n",
    "# Divide the dataset into X and Y\n",
    "X = array[:, 0:shape[1] - 1]\n",
    "y = array[:, shape[1] - 1]\n",
    "\n",
    "# Randomly split the dataset into train and test set\n",
    "X_train, X_test, y_train, y_test = train_test_split(\n",
    " X, y, test_size=0.30, random_state=4)\n",
    "\n",
    "print (X_test.shape)\n",
    "\n",
    "# Plot the histogram of the y test set\n",
    "y_test = pd.Series(y_test) #convert the array into a pandas Series\n",
    "y_test.hist()"
   ]
  },
  {
   "cell_type": "code",
   "execution_count": 28,
   "metadata": {
    "collapsed": true
   },
   "outputs": [],
   "source": [
    "from sklearn.model_selection import GridSearchCV"
   ]
  },
  {
   "cell_type": "code",
   "execution_count": 29,
   "metadata": {
    "collapsed": true
   },
   "outputs": [],
   "source": [
    "from sklearn.model_selection import train_test_split\n",
    "from sklearn.neighbors import KNeighborsClassifier\n",
    "import matplotlib.pyplot as plt\n",
    "from matplotlib.colors import ListedColormap"
   ]
  },
  {
   "cell_type": "code",
   "execution_count": 30,
   "metadata": {},
   "outputs": [],
   "source": [
    "X_train, X_test, y_train, y_test = train_test_split(X, y, test_size=0.30, random_state=4)\n"
   ]
  },
  {
   "cell_type": "code",
   "execution_count": 31,
   "metadata": {
    "collapsed": true
   },
   "outputs": [],
   "source": [
    "clf = KNeighborsClassifier(n_neighbors=3)"
   ]
  },
  {
   "cell_type": "code",
   "execution_count": 32,
   "metadata": {},
   "outputs": [
    {
     "data": {
      "text/plain": [
       "KNeighborsClassifier(algorithm='auto', leaf_size=30, metric='minkowski',\n",
       "           metric_params=None, n_jobs=1, n_neighbors=3, p=2,\n",
       "           weights='uniform')"
      ]
     },
     "execution_count": 32,
     "metadata": {},
     "output_type": "execute_result"
    }
   ],
   "source": [
    "clf.fit(X_train, y_train)"
   ]
  },
  {
   "cell_type": "code",
   "execution_count": 33,
   "metadata": {},
   "outputs": [
    {
     "name": "stdout",
     "output_type": "stream",
     "text": [
      "Test set accuracy: 0.72\n"
     ]
    }
   ],
   "source": [
    "print(\"Test set accuracy: %.2f\" % clf.score(X_test, y_test))"
   ]
  },
  {
   "cell_type": "code",
   "execution_count": 34,
   "metadata": {},
   "outputs": [
    {
     "data": {
      "image/png": "[encoded data removed]",
      "text/plain": [
       "<matplotlib.figure.Figure at 0x1c17001be0>"
      ]
     },
     "metadata": {},
     "output_type": "display_data"
    }
   ],
   "source": [
    "\n",
    "         \n",
    "# Build a list of the training and test scores for increasing k\n",
    "training_accuracy = []\n",
    "test_accuracy = []\n",
    "k = range(1, 100)\n",
    "for n_neighbors in k:\n",
    "# build the model\n",
    "    clf = KNeighborsClassifier(n_neighbors=n_neighbors).fit(X_train, y_train) # record training and test set accuracy \n",
    "    training_accuracy.append(clf.score(X_train, y_train)) \n",
    "    test_accuracy.append(clf.score(X_test, y_test))\n",
    "plt.plot(k, training_accuracy, label=\"training accuracy\")\n",
    "plt.plot(k, test_accuracy, label=\"test accuracy\")\n",
    "plt.ylabel(\"Accuracy\")\n",
    "plt.xlabel(\"n_neighbors\")\n",
    "_ = plt.legend()"
   ]
  },
  {
   "cell_type": "code",
   "execution_count": 35,
   "metadata": {
    "collapsed": true
   },
   "outputs": [],
   "source": [
    "#2 part\n",
    "\n"
   ]
  },
  {
   "cell_type": "code",
   "execution_count": 36,
   "metadata": {},
   "outputs": [],
   "source": [
    "shape = db.shape\n",
    "array = db.values\n",
    "\n",
    "# Divide the dataset into X and Y\n",
    "X = array[:, 0:shape[1] - 1]\n",
    "y = array[:, shape[1] - 1]\n",
    "\n",
    "# Randomly split the dataset into train and test set\n",
    "X_train, X_test, y_train, y_test = train_test_split(\n",
    " X, y, test_size=0.30, random_state=4)"
   ]
  },
  {
   "cell_type": "code",
   "execution_count": 48,
   "metadata": {},
   "outputs": [],
   "source": [
    "# Create the pipeline\n",
    "clf = make_pipeline(MinMaxScaler(), SVC(kernel ='linear'))"
   ]
  },
  {
   "cell_type": "code",
   "execution_count": 49,
   "metadata": {
    "collapsed": true
   },
   "outputs": [],
   "source": [
    "param_grid = {'svc__C': [0.001, 0.01, 0.1, 1, 10, 100] }\n",
    "\n",
    "# Define the parameters of the GridSearch and fit it.\n",
    "grid = GridSearchCV(clf, param_grid, cv = 5, scoring='accuracy')"
   ]
  },
  {
   "cell_type": "code",
   "execution_count": 39,
   "metadata": {},
   "outputs": [
    {
     "name": "stdout",
     "output_type": "stream",
     "text": [
      "Size of trainig set: 149  size of test set: 65\n"
     ]
    }
   ],
   "source": [
    "print(\"Size of trainig set: %d  size of test set: %d\" % (X_train.shape[0], X_test.shape[0]))"
   ]
  },
  {
   "cell_type": "code",
   "execution_count": 40,
   "metadata": {},
   "outputs": [
    {
     "name": "stdout",
     "output_type": "stream",
     "text": [
      "best score:  0.830769230769\n",
      "best parameters:  {'C': 10}\n"
     ]
    }
   ],
   "source": [
    "best_score = 0\n",
    "for C in [0.001, 0.01, 0.1, 1, 10, 100]:\n",
    "    svm = SVC(C=C)\n",
    "    svm.fit(X_train, y_train)\n",
    "    score = svm.score(X_test, y_test)\n",
    "    if score > best_score:\n",
    "        best_score = score\n",
    "        best_parameters = {'C' : C}\n",
    "print(\"best score: \", best_score)\n",
    "print(\"best parameters: \", best_parameters)"
   ]
  },
  {
   "cell_type": "code",
   "execution_count": 41,
   "metadata": {},
   "outputs": [
    {
     "name": "stdout",
     "output_type": "stream",
     "text": [
      "threefold_split\n"
     ]
    },
    {
     "data": {
      "image/png": "[encoded data removed]",
      "text/plain": [
       "<matplotlib.figure.Figure at 0x1c1a32a320>"
      ]
     },
     "metadata": {},
     "output_type": "display_data"
    }
   ],
   "source": [
    "print(\"threefold_split\")\n",
    "mglearn.plots.plot_threefold_split()"
   ]
  },
  {
   "cell_type": "code",
   "execution_count": 42,
   "metadata": {
    "collapsed": true
   },
   "outputs": [],
   "source": [
    "#using GridSearchCV\n",
    "param_grid= {'C': [0.001, 0.01, 0.1, 1, 10, 100]}"
   ]
  },
  {
   "cell_type": "code",
   "execution_count": 43,
   "metadata": {
    "collapsed": true
   },
   "outputs": [],
   "source": [
    "grid_search = GridSearchCV(SVC(), param_grid, cv=5)"
   ]
  },
  {
   "cell_type": "code",
   "execution_count": 44,
   "metadata": {},
   "outputs": [
    {
     "data": {
      "text/plain": [
       "0.76923076923076927"
      ]
     },
     "execution_count": 44,
     "metadata": {},
     "output_type": "execute_result"
    }
   ],
   "source": [
    "grid_search.fit(X_train, y_train)\n",
    "grid_search.score(X_test, y_test)"
   ]
  },
  {
   "cell_type": "code",
   "execution_count": 45,
   "metadata": {},
   "outputs": [
    {
     "name": "stdout",
     "output_type": "stream",
     "text": [
      "{'C': 100}\n"
     ]
    }
   ],
   "source": [
    "print(grid_search.best_params_)"
   ]
  },
  {
   "cell_type": "code",
   "execution_count": 46,
   "metadata": {},
   "outputs": [
    {
     "name": "stdout",
     "output_type": "stream",
     "text": [
      "0.664429530201\n"
     ]
    }
   ],
   "source": [
    "print(grid_search.best_score_)"
   ]
  },
  {
   "cell_type": "code",
   "execution_count": null,
   "metadata": {
    "collapsed": true
   },
   "outputs": [],
   "source": []
  }
 ],
 "metadata": {
  "kernelspec": {
   "display_name": "Python 3",
   "language": "python",
   "name": "python3"
  },
  "language_info": {
   "codemirror_mode": {
    "name": "ipython",
    "version": 3
   },
   "file_extension": ".py",
   "mimetype": "text/x-python",
   "name": "python",
   "nbconvert_exporter": "python",
   "pygments_lexer": "ipython3",
   "version": "3.6.3"
  }
 },
 "nbformat": 4,
 "nbformat_minor": 2
}
